{
 "cells": [
  {
   "cell_type": "code",
   "execution_count": 1,
   "metadata": {},
   "outputs": [],
   "source": [
    "import matplotlib.pyplot as plt\n",
    "import pandas as pd\n",
    "import seaborn as sns\n",
    "import numpy as np"
   ]
  },
  {
   "cell_type": "code",
   "execution_count": 2,
   "metadata": {},
   "outputs": [],
   "source": [
    "sns.set_theme()"
   ]
  },
  {
   "cell_type": "code",
   "execution_count": 3,
   "metadata": {},
   "outputs": [],
   "source": [
    "df = pd.DataFrame(columns=[\"n\", \"t\"])"
   ]
  },
  {
   "cell_type": "code",
   "execution_count": 4,
   "metadata": {},
   "outputs": [],
   "source": [
    "for i in range(1, 36):\n",
    "    temp = pd.read_csv(\"../build/{}.txt\".format(i), header=None).rename({0: \"t\"}, axis=1)\n",
    "    temp[\"n\"] = i\n",
    "    df = df.append(temp)"
   ]
  },
  {
   "cell_type": "code",
   "execution_count": 5,
   "metadata": {},
   "outputs": [],
   "source": [
    "df[\"n\"] = df[\"n\"].astype(np.float)\n",
    "df[\"t\"] = df[\"t\"].astype(np.float)"
   ]
  },
  {
   "cell_type": "code",
   "execution_count": 6,
   "metadata": {},
   "outputs": [
    {
     "data": {
      "image/png": "[encoded data removed]",
      "text/plain": [
       "<Figure size 1152x648 with 1 Axes>"
      ]
     },
     "metadata": {},
     "output_type": "display_data"
    }
   ],
   "source": [
    "plt.figure(figsize=(16, 9))\n",
    "ax = sns.scatterplot(x=\"n\", y=\"t\", estimator=np.mean, data=df)\n",
    "ax.set_yscale(\"log\")"
   ]
  },
  {
   "cell_type": "code",
   "execution_count": 7,
   "metadata": {},
   "outputs": [],
   "source": [
    "df[\"t_mean\"] = df.groupby(\"n\")[\"t\"].transform(\"mean\")\n",
    "df[\"t_std\"] = df.groupby(\"n\")[\"t\"].transform(\"std\")"
   ]
  },
  {
   "cell_type": "code",
   "execution_count": 8,
   "metadata": {},
   "outputs": [],
   "source": [
    "df = df.drop(\"t\", axis=1).drop_duplicates(ignore_index=True)"
   ]
  },
  {
   "cell_type": "code",
   "execution_count": 9,
   "metadata": {},
   "outputs": [],
   "source": [
    "t_n_median = df.loc[df[\"n\"] == 17, \"t_mean\"].values[0]"
   ]
  },
  {
   "cell_type": "code",
   "execution_count": 10,
   "metadata": {},
   "outputs": [],
   "source": [
    "c = t_n_median / 2**17"
   ]
  },
  {
   "cell_type": "code",
   "execution_count": 11,
   "metadata": {},
   "outputs": [
    {
     "data": {
      "text/plain": [
       "0.040552069999999996"
      ]
     },
     "execution_count": 11,
     "metadata": {},
     "output_type": "execute_result"
    }
   ],
   "source": [
    "t_n_median"
   ]
  },
  {
   "cell_type": "code",
   "execution_count": 12,
   "metadata": {},
   "outputs": [
    {
     "data": {
      "text/plain": [
       "3.0938774108886715e-07"
      ]
     },
     "execution_count": 12,
     "metadata": {},
     "output_type": "execute_result"
    }
   ],
   "source": [
    "c"
   ]
  },
  {
   "cell_type": "code",
   "execution_count": 13,
   "metadata": {},
   "outputs": [],
   "source": [
    "df[\"q\"] = df[\"t_mean\"] / (c*2**df[\"n\"])"
   ]
  },
  {
   "cell_type": "code",
   "execution_count": 14,
   "metadata": {},
   "outputs": [],
   "source": [
    "df[\"n\"] = df[\"n\"].astype(np.int)"
   ]
  },
  {
   "cell_type": "code",
   "execution_count": 15,
   "metadata": {},
   "outputs": [
    {
     "data": {
      "text/html": [
       "<div>\n",
       "<style scoped>\n",
       "    .dataframe tbody tr th:only-of-type {\n",
       "        vertical-align: middle;\n",
       "    }\n",
       "\n",
       "    .dataframe tbody tr th {\n",
       "        vertical-align: top;\n",
       "    }\n",
       "\n",
       "    .dataframe thead th {\n",
       "        text-align: right;\n",
       "    }\n",
       "</style>\n",
       "<table border=\"1\" class=\"dataframe\">\n",
       "  <thead>\n",
       "    <tr style=\"text-align: right;\">\n",
       "      <th></th>\n",
       "      <th>n</th>\n",
       "      <th>t_mean</th>\n",
       "      <th>t_std</th>\n",
       "      <th>q</th>\n",
       "    </tr>\n",
       "  </thead>\n",
       "  <tbody>\n",
       "    <tr>\n",
       "      <th>0</th>\n",
       "      <td>1</td>\n",
       "      <td>3.800000e-07</td>\n",
       "      <td>1.229273e-07</td>\n",
       "      <td>0.614116</td>\n",
       "    </tr>\n",
       "    <tr>\n",
       "      <th>1</th>\n",
       "      <td>2</td>\n",
       "      <td>9.600000e-07</td>\n",
       "      <td>1.712698e-07</td>\n",
       "      <td>0.775726</td>\n",
       "    </tr>\n",
       "    <tr>\n",
       "      <th>2</th>\n",
       "      <td>3</td>\n",
       "      <td>2.060000e-06</td>\n",
       "      <td>4.857983e-07</td>\n",
       "      <td>0.832289</td>\n",
       "    </tr>\n",
       "    <tr>\n",
       "      <th>3</th>\n",
       "      <td>4</td>\n",
       "      <td>6.760000e-06</td>\n",
       "      <td>8.579044e-07</td>\n",
       "      <td>1.365600</td>\n",
       "    </tr>\n",
       "    <tr>\n",
       "      <th>4</th>\n",
       "      <td>5</td>\n",
       "      <td>1.154000e-05</td>\n",
       "      <td>7.589466e-07</td>\n",
       "      <td>1.165609</td>\n",
       "    </tr>\n",
       "    <tr>\n",
       "      <th>5</th>\n",
       "      <td>6</td>\n",
       "      <td>3.783000e-05</td>\n",
       "      <td>2.573389e-06</td>\n",
       "      <td>1.910527</td>\n",
       "    </tr>\n",
       "    <tr>\n",
       "      <th>6</th>\n",
       "      <td>7</td>\n",
       "      <td>5.068000e-05</td>\n",
       "      <td>4.889399e-06</td>\n",
       "      <td>1.279745</td>\n",
       "    </tr>\n",
       "    <tr>\n",
       "      <th>7</th>\n",
       "      <td>8</td>\n",
       "      <td>8.280000e-05</td>\n",
       "      <td>7.227109e-06</td>\n",
       "      <td>1.045411</td>\n",
       "    </tr>\n",
       "    <tr>\n",
       "      <th>8</th>\n",
       "      <td>9</td>\n",
       "      <td>1.288500e-04</td>\n",
       "      <td>1.635203e-06</td>\n",
       "      <td>0.813413</td>\n",
       "    </tr>\n",
       "    <tr>\n",
       "      <th>9</th>\n",
       "      <td>10</td>\n",
       "      <td>3.052400e-04</td>\n",
       "      <td>4.667372e-05</td>\n",
       "      <td>0.963470</td>\n",
       "    </tr>\n",
       "    <tr>\n",
       "      <th>10</th>\n",
       "      <td>11</td>\n",
       "      <td>5.268100e-04</td>\n",
       "      <td>5.039940e-06</td>\n",
       "      <td>0.831421</td>\n",
       "    </tr>\n",
       "    <tr>\n",
       "      <th>11</th>\n",
       "      <td>12</td>\n",
       "      <td>1.401260e-03</td>\n",
       "      <td>3.526853e-04</td>\n",
       "      <td>1.105747</td>\n",
       "    </tr>\n",
       "    <tr>\n",
       "      <th>12</th>\n",
       "      <td>13</td>\n",
       "      <td>2.446350e-03</td>\n",
       "      <td>6.919167e-04</td>\n",
       "      <td>0.965218</td>\n",
       "    </tr>\n",
       "    <tr>\n",
       "      <th>13</th>\n",
       "      <td>14</td>\n",
       "      <td>5.891840e-03</td>\n",
       "      <td>1.734393e-03</td>\n",
       "      <td>1.162326</td>\n",
       "    </tr>\n",
       "    <tr>\n",
       "      <th>14</th>\n",
       "      <td>15</td>\n",
       "      <td>1.235170e-02</td>\n",
       "      <td>3.445219e-03</td>\n",
       "      <td>1.218355</td>\n",
       "    </tr>\n",
       "    <tr>\n",
       "      <th>15</th>\n",
       "      <td>16</td>\n",
       "      <td>2.008774e-02</td>\n",
       "      <td>5.867034e-03</td>\n",
       "      <td>0.990713</td>\n",
       "    </tr>\n",
       "    <tr>\n",
       "      <th>16</th>\n",
       "      <td>17</td>\n",
       "      <td>4.055207e-02</td>\n",
       "      <td>1.027389e-02</td>\n",
       "      <td>1.000000</td>\n",
       "    </tr>\n",
       "    <tr>\n",
       "      <th>17</th>\n",
       "      <td>18</td>\n",
       "      <td>7.717629e-02</td>\n",
       "      <td>1.872487e-02</td>\n",
       "      <td>0.951570</td>\n",
       "    </tr>\n",
       "    <tr>\n",
       "      <th>18</th>\n",
       "      <td>19</td>\n",
       "      <td>1.358922e-01</td>\n",
       "      <td>3.027686e-02</td>\n",
       "      <td>0.837764</td>\n",
       "    </tr>\n",
       "    <tr>\n",
       "      <th>19</th>\n",
       "      <td>20</td>\n",
       "      <td>2.234011e-01</td>\n",
       "      <td>4.337864e-02</td>\n",
       "      <td>0.688624</td>\n",
       "    </tr>\n",
       "    <tr>\n",
       "      <th>20</th>\n",
       "      <td>21</td>\n",
       "      <td>3.836149e-01</td>\n",
       "      <td>5.812266e-02</td>\n",
       "      <td>0.591238</td>\n",
       "    </tr>\n",
       "    <tr>\n",
       "      <th>21</th>\n",
       "      <td>22</td>\n",
       "      <td>7.159931e-01</td>\n",
       "      <td>7.639322e-02</td>\n",
       "      <td>0.551754</td>\n",
       "    </tr>\n",
       "    <tr>\n",
       "      <th>22</th>\n",
       "      <td>23</td>\n",
       "      <td>1.258848e+00</td>\n",
       "      <td>1.031004e-01</td>\n",
       "      <td>0.485043</td>\n",
       "    </tr>\n",
       "    <tr>\n",
       "      <th>23</th>\n",
       "      <td>24</td>\n",
       "      <td>2.106029e+00</td>\n",
       "      <td>2.177993e-01</td>\n",
       "      <td>0.405734</td>\n",
       "    </tr>\n",
       "    <tr>\n",
       "      <th>24</th>\n",
       "      <td>25</td>\n",
       "      <td>3.793534e+00</td>\n",
       "      <td>4.600355e-01</td>\n",
       "      <td>0.365419</td>\n",
       "    </tr>\n",
       "    <tr>\n",
       "      <th>25</th>\n",
       "      <td>26</td>\n",
       "      <td>5.358859e+00</td>\n",
       "      <td>8.733438e-01</td>\n",
       "      <td>0.258101</td>\n",
       "    </tr>\n",
       "    <tr>\n",
       "      <th>26</th>\n",
       "      <td>27</td>\n",
       "      <td>7.080251e+00</td>\n",
       "      <td>7.104967e-01</td>\n",
       "      <td>0.170504</td>\n",
       "    </tr>\n",
       "    <tr>\n",
       "      <th>27</th>\n",
       "      <td>28</td>\n",
       "      <td>1.070334e+01</td>\n",
       "      <td>1.587635e+00</td>\n",
       "      <td>0.128877</td>\n",
       "    </tr>\n",
       "    <tr>\n",
       "      <th>28</th>\n",
       "      <td>29</td>\n",
       "      <td>1.553709e+01</td>\n",
       "      <td>1.847696e+00</td>\n",
       "      <td>0.093540</td>\n",
       "    </tr>\n",
       "    <tr>\n",
       "      <th>29</th>\n",
       "      <td>30</td>\n",
       "      <td>2.404103e+01</td>\n",
       "      <td>2.001145e+00</td>\n",
       "      <td>0.072369</td>\n",
       "    </tr>\n",
       "    <tr>\n",
       "      <th>30</th>\n",
       "      <td>31</td>\n",
       "      <td>3.644603e+01</td>\n",
       "      <td>5.140035e+00</td>\n",
       "      <td>0.054855</td>\n",
       "    </tr>\n",
       "    <tr>\n",
       "      <th>31</th>\n",
       "      <td>32</td>\n",
       "      <td>4.749943e+01</td>\n",
       "      <td>5.128967e+00</td>\n",
       "      <td>0.035746</td>\n",
       "    </tr>\n",
       "    <tr>\n",
       "      <th>32</th>\n",
       "      <td>33</td>\n",
       "      <td>8.126631e+01</td>\n",
       "      <td>8.653728e+00</td>\n",
       "      <td>0.030579</td>\n",
       "    </tr>\n",
       "    <tr>\n",
       "      <th>33</th>\n",
       "      <td>34</td>\n",
       "      <td>1.078847e+02</td>\n",
       "      <td>1.988289e+01</td>\n",
       "      <td>0.020297</td>\n",
       "    </tr>\n",
       "    <tr>\n",
       "      <th>34</th>\n",
       "      <td>35</td>\n",
       "      <td>1.556082e+02</td>\n",
       "      <td>2.339909e+01</td>\n",
       "      <td>0.014638</td>\n",
       "    </tr>\n",
       "  </tbody>\n",
       "</table>\n",
       "</div>"
      ],
      "text/plain": [
       "     n        t_mean         t_std         q\n",
       "0    1  3.800000e-07  1.229273e-07  0.614116\n",
       "1    2  9.600000e-07  1.712698e-07  0.775726\n",
       "2    3  2.060000e-06  4.857983e-07  0.832289\n",
       "3    4  6.760000e-06  8.579044e-07  1.365600\n",
       "4    5  1.154000e-05  7.589466e-07  1.165609\n",
       "5    6  3.783000e-05  2.573389e-06  1.910527\n",
       "6    7  5.068000e-05  4.889399e-06  1.279745\n",
       "7    8  8.280000e-05  7.227109e-06  1.045411\n",
       "8    9  1.288500e-04  1.635203e-06  0.813413\n",
       "9   10  3.052400e-04  4.667372e-05  0.963470\n",
       "10  11  5.268100e-04  5.039940e-06  0.831421\n",
       "11  12  1.401260e-03  3.526853e-04  1.105747\n",
       "12  13  2.446350e-03  6.919167e-04  0.965218\n",
       "13  14  5.891840e-03  1.734393e-03  1.162326\n",
       "14  15  1.235170e-02  3.445219e-03  1.218355\n",
       "15  16  2.008774e-02  5.867034e-03  0.990713\n",
       "16  17  4.055207e-02  1.027389e-02  1.000000\n",
       "17  18  7.717629e-02  1.872487e-02  0.951570\n",
       "18  19  1.358922e-01  3.027686e-02  0.837764\n",
       "19  20  2.234011e-01  4.337864e-02  0.688624\n",
       "20  21  3.836149e-01  5.812266e-02  0.591238\n",
       "21  22  7.159931e-01  7.639322e-02  0.551754\n",
       "22  23  1.258848e+00  1.031004e-01  0.485043\n",
       "23  24  2.106029e+00  2.177993e-01  0.405734\n",
       "24  25  3.793534e+00  4.600355e-01  0.365419\n",
       "25  26  5.358859e+00  8.733438e-01  0.258101\n",
       "26  27  7.080251e+00  7.104967e-01  0.170504\n",
       "27  28  1.070334e+01  1.587635e+00  0.128877\n",
       "28  29  1.553709e+01  1.847696e+00  0.093540\n",
       "29  30  2.404103e+01  2.001145e+00  0.072369\n",
       "30  31  3.644603e+01  5.140035e+00  0.054855\n",
       "31  32  4.749943e+01  5.128967e+00  0.035746\n",
       "32  33  8.126631e+01  8.653728e+00  0.030579\n",
       "33  34  1.078847e+02  1.988289e+01  0.020297\n",
       "34  35  1.556082e+02  2.339909e+01  0.014638"
      ]
     },
     "execution_count": 15,
     "metadata": {},
     "output_type": "execute_result"
    }
   ],
   "source": [
    "df"
   ]
  },
  {
   "cell_type": "code",
   "execution_count": 16,
   "metadata": {},
   "outputs": [],
   "source": [
    "df.to_csv(\"naive.csv\", index=False)"
   ]
  }
 ],
 "metadata": {
  "kernelspec": {
   "display_name": "Python 3",
   "language": "python",
   "name": "python3"
  },
  "language_info": {
   "codemirror_mode": {
    "name": "ipython",
    "version": 3
   },
   "file_extension": ".py",
   "mimetype": "text/x-python",
   "name": "python",
   "nbconvert_exporter": "python",
   "pygments_lexer": "ipython3",
   "version": "3.8.6"
  }
 },
 "nbformat": 4,
 "nbformat_minor": 4
}
